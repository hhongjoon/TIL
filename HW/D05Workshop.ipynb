{
 "cells": [
  {
   "cell_type": "code",
   "execution_count": 20,
   "metadata": {},
   "outputs": [
    {
     "name": "stdout",
     "output_type": "stream",
     "text": [
      "0\n"
     ]
    },
    {
     "data": {
      "text/plain": [
       "False"
      ]
     },
     "execution_count": 20,
     "metadata": {},
     "output_type": "execute_result"
    }
   ],
   "source": [
    "# 1\n",
    "def conf_palin(a):\n",
    "    for i in range(int(len(a)/2)):    #몫구하기 : //\n",
    "        print(i)\n",
    "        if a[i] != a[-i-1]:\n",
    "            return False\n",
    "    return True\n",
    "    \n",
    "a = 'ko'\n",
    "conf_palin(a)"
   ]
  },
  {
   "cell_type": "code",
   "execution_count": 39,
   "metadata": {},
   "outputs": [
    {
     "name": "stdout",
     "output_type": "stream",
     "text": [
      "False\n",
      "True\n"
     ]
    }
   ],
   "source": [
    "def palin2(word):\n",
    "    l_word = 0\n",
    "    r_word = len(word) - 1\n",
    "    \n",
    "    while r_word >= l_word:\n",
    "        if word[l_word] != word[r_word]:\n",
    "            return False\n",
    "        l_word += 1\n",
    "        r_word -= 1\n",
    "    return True\n",
    "\n",
    "print(palin2('tomato'))\n",
    "print(palin2('aaa'))"
   ]
  },
  {
   "cell_type": "code",
   "execution_count": 43,
   "metadata": {},
   "outputs": [
    {
     "data": {
      "text/plain": [
       "False"
      ]
     },
     "execution_count": 43,
     "metadata": {},
     "output_type": "execute_result"
    }
   ],
   "source": [
    "def palin3(word):\n",
    "    return list(word) == list(reversed(word))\n",
    "\n",
    "def palin3(word):\n",
    "    return list(word) == list(word[::-1])  #[시작:끝:간격]\n",
    "\n",
    "palin3('tosoooooot')"
   ]
  },
  {
   "cell_type": "code",
   "execution_count": null,
   "metadata": {},
   "outputs": [],
   "source": []
  },
  {
   "cell_type": "code",
   "execution_count": null,
   "metadata": {},
   "outputs": [],
   "source": []
  },
  {
   "cell_type": "code",
   "execution_count": null,
   "metadata": {},
   "outputs": [],
   "source": []
  },
  {
   "cell_type": "code",
   "execution_count": 26,
   "metadata": {
    "scrolled": true
   },
   "outputs": [
    {
     "name": "stdout",
     "output_type": "stream",
     "text": [
      "['apple', 'pear', 'melon']\n"
     ]
    }
   ],
   "source": [
    "my_list= ['apple', 'pear', 'melon']\n",
    "a = [i for i in my_list]\n",
    "print(a)"
   ]
  },
  {
   "cell_type": "code",
   "execution_count": 35,
   "metadata": {},
   "outputs": [
    {
     "name": "stdout",
     "output_type": "stream",
     "text": [
      "1 apple\n",
      "2 pear\n",
      "3 melon\n"
     ]
    }
   ],
   "source": [
    "my_list= ['apple', 'pear', 'melon']\n",
    "for i, j in enumerate(my_list,1):\n",
    "    print(i, j)"
   ]
  },
  {
   "cell_type": "code",
   "execution_count": null,
   "metadata": {},
   "outputs": [],
   "source": []
  }
 ],
 "metadata": {
  "kernelspec": {
   "display_name": "Python 3",
   "language": "python",
   "name": "python3"
  },
  "language_info": {
   "codemirror_mode": {
    "name": "ipython",
    "version": 3
   },
   "file_extension": ".py",
   "mimetype": "text/x-python",
   "name": "python",
   "nbconvert_exporter": "python",
   "pygments_lexer": "ipython3",
   "version": "3.6.7"
  }
 },
 "nbformat": 4,
 "nbformat_minor": 2
}
