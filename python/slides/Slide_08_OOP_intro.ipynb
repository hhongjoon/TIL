{
 "cells": [
  {
   "cell_type": "markdown",
   "metadata": {},
   "source": [
    "# 시작하기전에\n",
    "\n",
    "<wikipedia - 객체지향 프로그래밍> \n",
    ">\n",
    "> 객체 지향 프로그래밍(영어: Object-Oriented Programming, OOP)은 컴퓨터 프 로그래밍의 패러다임의 하나이다. 객체 지향 프로그래밍은 컴퓨터 프로그램을 명령어의 목록으로 보는 시각에서 벗어나 여러 개의 독립된 단위, 즉 \"객체\"들의 모임으로 파악하고자 하는 것이다. 각각의 객체는 메시지를 주고받고, 데이터를 처리할 수 있다.\n",
    ">\n",
    "> 명령형 프로그래밍인 절차지향 프로그래밍에서 발전된 형태를 나타내며, 기본 구성요소는 다음과 같다.\n",
    "\n",
    "* 클래스(Class) - 같은 종류(또는 문제 해결을 위한)의 집단에 속하는 속성(attribute)과 행위(behavior)를 정의한 것으로 객체지향 프로그램의 기본적인 사용자 정의 데이터형(user define data type)이라고 할 수 있다. 클래스는 프로그래머가 아니지만 해결해야 할 문제가 속하는 영역에 종사하는 사람이라면 사용할 수 있고, 다른 클래스 또는 외부 요소와 독립적으로 디자인하여야 한다.\n",
    "\n",
    "\n",
    "* 인스턴스 - 클래스의 인스턴스(실제로 메모리상에 할당된 것)이다. 객체는 자신 고유의 속성(attribute)을 가지며 클래스에서 정의한 행위(behavior)를 수행할 수 있다. 객체의 행위는 클래스에 정의된 행위에 대한 정의를 공유함으로써 메모리를 경제적으로 사용한다.\n",
    "\n",
    "\n",
    "* 메서드(Method) - 클래스로부터 생성된 객체를 사용하는 방법으로서 객체에 명령을 내리는 것이라 할 수 있다. 메서드는 한 객체의 속성을 조작하는 데 사용된다."
   ]
  },
  {
   "cell_type": "code",
   "execution_count": 1,
   "metadata": {},
   "outputs": [
    {
     "name": "stdout",
     "output_type": "stream",
     "text": [
      "<class 'complex'>\n"
     ]
    }
   ],
   "source": [
    "# 복소수를 하나 만들어보고, 타입을 출력해봅시다.\n",
    "a= 3 + 5j\n",
    "print(type(a))"
   ]
  },
  {
   "cell_type": "code",
   "execution_count": null,
   "metadata": {},
   "outputs": [],
   "source": [
    "# 허수부랑 실수부를 함께 출력해봅시다.\n"
   ]
  },
  {
   "cell_type": "code",
   "execution_count": 4,
   "metadata": {},
   "outputs": [
    {
     "name": "stdout",
     "output_type": "stream",
     "text": [
      "[1, 3, 5]\n",
      "<class 'list'>\n"
     ]
    },
    {
     "data": {
      "text/plain": [
       "['__add__',\n",
       " '__class__',\n",
       " '__contains__',\n",
       " '__delattr__',\n",
       " '__delitem__',\n",
       " '__dir__',\n",
       " '__doc__',\n",
       " '__eq__',\n",
       " '__format__',\n",
       " '__ge__',\n",
       " '__getattribute__',\n",
       " '__getitem__',\n",
       " '__gt__',\n",
       " '__hash__',\n",
       " '__iadd__',\n",
       " '__imul__',\n",
       " '__init__',\n",
       " '__init_subclass__',\n",
       " '__iter__',\n",
       " '__le__',\n",
       " '__len__',\n",
       " '__lt__',\n",
       " '__mul__',\n",
       " '__ne__',\n",
       " '__new__',\n",
       " '__reduce__',\n",
       " '__reduce_ex__',\n",
       " '__repr__',\n",
       " '__reversed__',\n",
       " '__rmul__',\n",
       " '__setattr__',\n",
       " '__setitem__',\n",
       " '__sizeof__',\n",
       " '__str__',\n",
       " '__subclasshook__',\n",
       " 'append',\n",
       " 'clear',\n",
       " 'copy',\n",
       " 'count',\n",
       " 'extend',\n",
       " 'index',\n",
       " 'insert',\n",
       " 'pop',\n",
       " 'remove',\n",
       " 'reverse',\n",
       " 'sort']"
      ]
     },
     "execution_count": 4,
     "metadata": {},
     "output_type": "execute_result"
    }
   ],
   "source": [
    "# 리스트를 하나 만들고 정렬해봅시다.\n",
    "L = [5,1,3]\n",
    "L.sort()       ##  L이 바뀜\n",
    "print(L)\n",
    "print(type(L))\n",
    "dir(list)               ### sorted는 내장함수"
   ]
  },
  {
   "cell_type": "code",
   "execution_count": null,
   "metadata": {},
   "outputs": [],
   "source": [
    "# 리스트가 할 수 있는 것들을 알아봅시다.\n"
   ]
  },
  {
   "cell_type": "markdown",
   "metadata": {},
   "source": [
    "## 실습 문제\n",
    "\n",
    "> 프로그래밍으로 나와 친구의 이름을 저장해보세요.\n",
    ">\n",
    "\n",
    "**각자의 명함과 지갑을 만들어봅시다.**\n",
    "\n",
    "* 내 생일, 전화번호, 이메일주소 정보를 담은 변수를 확인해봅시다.\n",
    "\n",
    "* 주머니(pocket)에는 돈(won)을 포함하여 현재 가지고 있는 것을 작성해보세요.\n",
    "\n",
    "* 나는 인사를 하면서 내 명함에 있는 정보 하나를 이야기합니다. `greeting` 함수를 만듭시다.\n",
    "\n",
    "* 나는 주머니에 원하는 것과 갯수를 지정하여 넣을 수 있습니다. \n",
    "\n",
    "  기존에 값이 있으면, 갯수를 추가하고 없으면 새로 만드는 `in_my_pocket` 함수를 만듭시다.\n",
    "  \n",
    "**친구의 정보와 지갑도 만들어봅시다.**"
   ]
  },
  {
   "cell_type": "code",
   "execution_count": 46,
   "metadata": {},
   "outputs": [],
   "source": [
    "# 아래에 자유롭게 코드를 작성해보세요.\n",
    "my_name = 'SHJ'\n",
    "you_name = 'SSY'\n",
    "my_birthday = 940129\n",
    "my_home = 'DoAn'\n",
    "my_phone = 1077027410\n",
    "\n",
    "my_pocket = {'money' : 10000,'card' : 1, 'phone' :1}\n",
    "your_pocket = {'money' : 5000,'candy' : 1, 'dollar' :1}\n",
    "\n",
    "\n",
    "def greeting():\n",
    "    print(f\"안녕? 난 {my_name}이야 {my_birthday} 선물줘\")\n",
    "    \n",
    "def in_my_pocket(pocket,a,b):\n",
    "    if pocket == my_pocket:\n",
    "        if a in my_pocket:\n",
    "            my_pocket[a] += 1\n",
    "            #print(my_pocket)\n",
    "        else:\n",
    "            my_pocket[a]=b\n",
    "    if pocket == your_pocket:\n",
    "        if a in your_pocket:\n",
    "            your_pocket[a] += 1\n",
    "        else:\n",
    "            your_pocket[a]=b\n",
    "\n",
    "def in_my_pocket(pocket,stuff,count):\n",
    "    if pocket.get(stuff):\n",
    "        pocket[stuff]+=count\n",
    "    else:\n",
    "        pocket[stuff] = count\n",
    "    return pocket\n",
    "        \n",
    "   "
   ]
  },
  {
   "cell_type": "code",
   "execution_count": 48,
   "metadata": {},
   "outputs": [
    {
     "name": "stdout",
     "output_type": "stream",
     "text": [
      "{'money': 5000, 'candy': 1, 'dollar': 1, 'qq': 2}\n"
     ]
    }
   ],
   "source": [
    "# in_my_pocket 함수를 통해 내 주머니에 내용을 추가해봅시다.\n",
    "\n",
    "in_my_pocket(your_pocket, 'qq', 1)\n",
    "print(your_pocket)"
   ]
  },
  {
   "cell_type": "code",
   "execution_count": 26,
   "metadata": {},
   "outputs": [
    {
     "name": "stdout",
     "output_type": "stream",
     "text": [
      "안녕? 난 SHJ이야 940129 선물줘\n"
     ]
    }
   ],
   "source": [
    "# greeting 함수를 통해 인사를 해봅시다.\n",
    "greeting()"
   ]
  },
  {
   "cell_type": "markdown",
   "metadata": {},
   "source": [
    "# 클래스 및 인스턴스"
   ]
  },
  {
   "cell_type": "markdown",
   "metadata": {},
   "source": [
    "## 클래스 객체\n",
    "\n",
    "```python\n",
    "class ClassName:\n",
    "    \n",
    "```\n",
    "\n",
    "* 선언과 동시에 클래스 객체가 생성됨.\n",
    "\n",
    "* 또한, 선언된 공간은 지역 스코프로 사용된다.\n",
    "\n",
    "* 정의된 어트리뷰트 중 변수는 멤버 변수로 불리운다.\n",
    "\n",
    "* 정의된 함수(`def`)는 메서드로 불리운다."
   ]
  },
  {
   "cell_type": "code",
   "execution_count": 51,
   "metadata": {},
   "outputs": [
    {
     "name": "stdout",
     "output_type": "stream",
     "text": [
      "<__main__.Person object at 0x0000025CC26A58D0>\n"
     ]
    }
   ],
   "source": [
    "class Person:\n",
    "    pass\n",
    "\n",
    "p = Person()\n",
    "print(p)"
   ]
  },
  {
   "cell_type": "code",
   "execution_count": 53,
   "metadata": {},
   "outputs": [],
   "source": [
    "class Person:\n",
    "    name = '고길동'\n",
    "    def sayhello(self):\n",
    "        print(f\"Hello, I'm {self.name}\")"
   ]
  },
  {
   "cell_type": "markdown",
   "metadata": {},
   "source": [
    "* 선언시 self는 반드시 작성해주세요! 나중에 설명드립니다."
   ]
  },
  {
   "cell_type": "markdown",
   "metadata": {},
   "source": [
    "## 인스턴스 객체\n",
    "\n",
    "* 인스턴스 객체는 `ClassName()`을 호출함으로써 선언된다.\n",
    "\n",
    "* 인스턴스 객체와 클래스 객체는 서로 다른 이름 공간을 가지고 있다.\n",
    "\n",
    "* 인스턴스 -> 클래스 -> 전역 순으로 탐색을 한다."
   ]
  },
  {
   "cell_type": "code",
   "execution_count": 54,
   "metadata": {},
   "outputs": [],
   "source": [
    "# iu라는 클래스 Person의 인스턴스를 만들어봅시다. \n",
    "iu = Person()"
   ]
  },
  {
   "cell_type": "code",
   "execution_count": 55,
   "metadata": {},
   "outputs": [
    {
     "name": "stdout",
     "output_type": "stream",
     "text": [
      "Hello, I'm 고길동\n"
     ]
    }
   ],
   "source": [
    "# 인사하는 메서드를 호출해봅시다.\n",
    "iu.sayhello()"
   ]
  },
  {
   "cell_type": "code",
   "execution_count": 56,
   "metadata": {
    "scrolled": true
   },
   "outputs": [
    {
     "data": {
      "text/plain": [
       "'고길동'"
      ]
     },
     "execution_count": 56,
     "metadata": {},
     "output_type": "execute_result"
    }
   ],
   "source": [
    "# iu의 이름을 확인해봅시다.\n",
    "iu.name                ## 변수도 접근 가능"
   ]
  },
  {
   "cell_type": "code",
   "execution_count": 57,
   "metadata": {},
   "outputs": [],
   "source": [
    "# iu로 이름을 바꿔주세요.\n",
    "iu.name = 'iu'"
   ]
  },
  {
   "cell_type": "code",
   "execution_count": 58,
   "metadata": {},
   "outputs": [
    {
     "name": "stdout",
     "output_type": "stream",
     "text": [
      "Hello, I'm iu\n"
     ]
    }
   ],
   "source": [
    "# iu가 인사를 합니다.\n",
    "iu.sayhello()"
   ]
  },
  {
   "cell_type": "code",
   "execution_count": 59,
   "metadata": {},
   "outputs": [
    {
     "data": {
      "text/plain": [
       "True"
      ]
     },
     "execution_count": 59,
     "metadata": {},
     "output_type": "execute_result"
    }
   ],
   "source": [
    "# iu와 Person이 같은지 확인해보겠습니다.\n",
    "isinstance(iu, Person)   ## iu가 Person의 인스턴스인지"
   ]
  },
  {
   "cell_type": "code",
   "execution_count": 60,
   "metadata": {},
   "outputs": [
    {
     "data": {
      "text/plain": [
       "<__main__.Person at 0x25cc25f3dd8>"
      ]
     },
     "execution_count": 60,
     "metadata": {},
     "output_type": "execute_result"
    }
   ],
   "source": [
    "# iu와 Person이 같은지 확인해보겠습니다.\n",
    "iu"
   ]
  },
  {
   "cell_type": "code",
   "execution_count": 61,
   "metadata": {},
   "outputs": [
    {
     "data": {
      "text/plain": [
       "<__main__.Person at 0x25cc25f3dd8>"
      ]
     },
     "execution_count": 61,
     "metadata": {},
     "output_type": "execute_result"
    }
   ],
   "source": [
    "# iu를 출력해봅시다.\n",
    "iu"
   ]
  },
  {
   "cell_type": "code",
   "execution_count": 62,
   "metadata": {},
   "outputs": [
    {
     "name": "stdout",
     "output_type": "stream",
     "text": [
      "<__main__.Person object at 0x0000025CC25F3DD8>\n"
     ]
    }
   ],
   "source": [
    "# iu를 출력해봅시다 2.\n",
    "print(iu)"
   ]
  },
  {
   "cell_type": "code",
   "execution_count": 63,
   "metadata": {},
   "outputs": [
    {
     "name": "stdout",
     "output_type": "stream",
     "text": [
      "<map object at 0x0000025CC25E0208>\n"
     ]
    }
   ],
   "source": [
    "# map을 만들어 비교해 봅시다.   ### 프린트는 무조건 객체이다.\n",
    "print(map(int,'123'))"
   ]
  },
  {
   "cell_type": "code",
   "execution_count": 65,
   "metadata": {},
   "outputs": [
    {
     "name": "stdout",
     "output_type": "stream",
     "text": [
      "(1, 2)\n"
     ]
    }
   ],
   "source": [
    "a=(1,2)\n",
    "print(a)"
   ]
  },
  {
   "cell_type": "code",
   "execution_count": 68,
   "metadata": {},
   "outputs": [
    {
     "name": "stdout",
     "output_type": "stream",
     "text": [
      "{'x': 11, 'y': 22}\n"
     ]
    }
   ],
   "source": [
    "b = dict(x=11, y=22)\n",
    "print(b)"
   ]
  },
  {
   "cell_type": "code",
   "execution_count": 71,
   "metadata": {},
   "outputs": [
    {
     "name": "stdout",
     "output_type": "stream",
     "text": [
      "[1, 2, 3]\n"
     ]
    }
   ],
   "source": [
    "c = [1,2,3]\n",
    "print(c)"
   ]
  },
  {
   "cell_type": "code",
   "execution_count": 72,
   "metadata": {},
   "outputs": [
    {
     "name": "stdout",
     "output_type": "stream",
     "text": [
      "<class 'tuple'>\n",
      "<class 'dict'>\n",
      "<class 'list'>\n"
     ]
    }
   ],
   "source": [
    "print(type(a))                ### 자주 쓰는 내장함수는 앞자리가 소문자임\n",
    "print(type(b))\n",
    "print(type(c))"
   ]
  },
  {
   "cell_type": "markdown",
   "metadata": {},
   "source": [
    "## 실습 문제 발전\n",
    "\n",
    "> 지금까지 배운 것을 통해서 Person 클래스를 만들고, 친구와 나를 표현해봅시다.\n",
    ">\n",
    "> 주머니와 정보를 가지고 있고 (멤버 변수)\n",
    "> \n",
    "> 인사(`greeting()`)와 주머니에 내용을 추가(`in_my_pocket()`)할 수 있습니다. (메서드)\n",
    ">\n",
    "> 추가적으로 `get_my_pocket()`으로 지갑에 담긴 정보를 가져와 봅시다."
   ]
  },
  {
   "cell_type": "code",
   "execution_count": 100,
   "metadata": {},
   "outputs": [],
   "source": [
    "# 아래에 코드를 작성해주세요.    \n",
    "class Person:\n",
    "    name = '고길동'\n",
    "    def sayhello(self):\n",
    "        print(f\"Hello, I'm {self.name}\")"
   ]
  },
  {
   "cell_type": "code",
   "execution_count": 101,
   "metadata": {},
   "outputs": [
    {
     "name": "stdout",
     "output_type": "stream",
     "text": [
      "Hello, I'm 고길동\n"
     ]
    },
    {
     "ename": "AttributeError",
     "evalue": "type object 'Person' has no attribute 'greeting'",
     "output_type": "error",
     "traceback": [
      "\u001b[1;31m---------------------------------------------------------------------------\u001b[0m",
      "\u001b[1;31mAttributeError\u001b[0m                            Traceback (most recent call last)",
      "\u001b[1;32m<ipython-input-101-ed57cae5acdc>\u001b[0m in \u001b[0;36m<module>\u001b[1;34m\u001b[0m\n\u001b[0;32m      3\u001b[0m \u001b[1;33m\u001b[0m\u001b[0m\n\u001b[0;32m      4\u001b[0m \u001b[1;33m\u001b[0m\u001b[0m\n\u001b[1;32m----> 5\u001b[1;33m \u001b[0mPerson\u001b[0m\u001b[1;33m.\u001b[0m\u001b[0mgreeting\u001b[0m\u001b[1;33m(\u001b[0m\u001b[0miu\u001b[0m\u001b[1;33m)\u001b[0m   \u001b[1;31m# 자기자신의 객체를 받아와서 쓴다는 듯\u001b[0m\u001b[1;33m\u001b[0m\u001b[1;33m\u001b[0m\u001b[0m\n\u001b[0m",
      "\u001b[1;31mAttributeError\u001b[0m: type object 'Person' has no attribute 'greeting'"
     ]
    }
   ],
   "source": [
    "iu = Person()\n",
    "iu.sayhello()\n",
    "\n",
    "\n",
    "Person.greeting(iu)   # 자기자신의 객체를 받아와서 쓴다는 듯"
   ]
  },
  {
   "cell_type": "code",
   "execution_count": 162,
   "metadata": {},
   "outputs": [],
   "source": [
    "class Person:\n",
    "    my_name = 'SHJ'\n",
    "    you_name = 'SSY'\n",
    "    my_birthday = 940129\n",
    "    my_home = 'DoAn'\n",
    "    my_phone = 1077027410\n",
    "\n",
    "    my_pocket = {'money' : 10000,'card' : 1, 'phone' :1}\n",
    "    your_pocket = {'money' : 5000,'candy' : 1, 'dollar' :1}\n",
    "\n",
    "\n",
    "    def greeting(self):\n",
    "        print(f\"안녕? 난 {self.my_name}이야 {self.my_birthday} 선물줘\")\n",
    "    def in_my_pocket(self, stuff,count):\n",
    "        if self.my_pocket.get(stuff):\n",
    "            self.my_pocket[stuff]+=count\n",
    "        else:\n",
    "            self.my_pocket[stuff] = count\n",
    "        return self.my_pocket\n",
    "    def get_my_pocket(self):\n",
    "        return self.my_pocket  # 내 자깁보여주기"
   ]
  },
  {
   "cell_type": "code",
   "execution_count": 163,
   "metadata": {},
   "outputs": [
    {
     "name": "stdout",
     "output_type": "stream",
     "text": [
      "안녕? 난 SHJ이야 940129 선물줘\n",
      "안녕? 난 IU이야 940129 선물줘\n",
      "{'money': 10000, 'card': 1, 'ko': 1}\n"
     ]
    },
    {
     "data": {
      "text/plain": [
       "{'money': 10000, 'card': 1, 'ko': 1, 'can': 9}"
      ]
     },
     "execution_count": 163,
     "metadata": {},
     "output_type": "execute_result"
    }
   ],
   "source": [
    "# 나를 만들어 봅시다.\n",
    "iu = Person()\n",
    "iu.greeting()\n",
    "iu.my_name = 'IU'\n",
    "iu.greeting()\n",
    "iu.my_pocket = {'money' : 10000,'card' : 1, 'ko' :1, }\n",
    "print(iu.get_my_pocket())\n",
    "\n",
    "iu.in_my_pocket('can', 3)\n",
    "iu.get_my_pocket()\n",
    "iu.in_my_pocket('can', 3)\n",
    "iu.in_my_pocket('can', 3)\n",
    "\n",
    "\n",
    "\n",
    "#Person.greeting(iu)   # 자기자신의 객체를 받아와서 쓴다는 듯"
   ]
  },
  {
   "cell_type": "code",
   "execution_count": 154,
   "metadata": {},
   "outputs": [],
   "source": [
    "# greeting, in_my_pocket, get_my_pocket"
   ]
  },
  {
   "cell_type": "code",
   "execution_count": null,
   "metadata": {},
   "outputs": [],
   "source": []
  }
 ],
 "metadata": {
  "kernelspec": {
   "display_name": "Python 3",
   "language": "python",
   "name": "python3"
  },
  "language_info": {
   "codemirror_mode": {
    "name": "ipython",
    "version": 3
   },
   "file_extension": ".py",
   "mimetype": "text/x-python",
   "name": "python",
   "nbconvert_exporter": "python",
   "pygments_lexer": "ipython3",
   "version": "3.6.7"
  },
  "latex_envs": {
   "LaTeX_envs_menu_present": true,
   "autoclose": false,
   "autocomplete": true,
   "bibliofile": "biblio.bib",
   "cite_by": "apalike",
   "current_citInitial": 1,
   "eqLabelWithNumbers": true,
   "eqNumInitial": 1,
   "hotkeys": {
    "equation": "Ctrl-E",
    "itemize": "Ctrl-I"
   },
   "labels_anchors": false,
   "latex_user_defs": false,
   "report_style_numbering": false,
   "user_envs_cfg": false
  },
  "toc": {
   "base_numbering": 1,
   "nav_menu": {},
   "number_sections": true,
   "sideBar": true,
   "skip_h1_title": false,
   "title_cell": "Table of Contents",
   "title_sidebar": "Contents",
   "toc_cell": false,
   "toc_position": {},
   "toc_section_display": true,
   "toc_window_display": false
  }
 },
 "nbformat": 4,
 "nbformat_minor": 2
}
