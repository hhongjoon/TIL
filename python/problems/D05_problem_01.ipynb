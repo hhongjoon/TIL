{
 "cells": [
  {
   "cell_type": "markdown",
   "metadata": {},
   "source": [
    "# 문제\n",
    "\n",
    ">(QWERTY 키보드를 사용하여 타이핑을 한다고 가정할 때) '편안한 단어'는 타이핑 할 때 손을\n",
    "번갈아 칠 수 있는 단어를 말합니다.단어를 인자로 받아 그것이 '편안한 단어'인지 여부를 True/False로 반환하는 함수를 만드세요.(모든 단어는 a ~ z까지 오름차순으로 구성된 문자열입니다.)\n",
    "\n",
    ">문자 목록\n",
    "- 왼손: q, w, e, r, t, a, s, s, d, f, g, z, x, c, v, b\n",
    "- 오른손: y, u, i, o, p, h, j, k, l, n, m"
   ]
  },
  {
   "cell_type": "code",
   "execution_count": 1,
   "metadata": {},
   "outputs": [
    {
     "name": "stdout",
     "output_type": "stream",
     "text": [
      "True\n",
      "False\n"
     ]
    }
   ],
   "source": [
    "#여기에 코드를 작성하세요\n",
    "l = ['q','w','e','r','t','a','s','d','f','g','z','x','c','v','b']\n",
    "r = ['y','u','i','o','p','h','j','k','l','n','m']\n",
    "def comfortable_word(a):\n",
    "    con = ''\n",
    "    for i in range(len(a)):\n",
    "        #print(i)\n",
    "        if i+1 == len(a):\n",
    "            return True\n",
    "        if a[i] in l and a[i+1] not in l:\n",
    "            continue\n",
    "        \n",
    "        if a[i] in r and a[i+1] not in r:\n",
    "            continue\n",
    "        \n",
    "                       \n",
    "        return False\n",
    "    \n",
    "        \n",
    "            \n",
    "print(comfortable_word(\"qywu\"))\n",
    "print(comfortable_word(\"apple\"))"
   ]
  },
  {
   "cell_type": "markdown",
   "metadata": {},
   "source": [
    "# 문제\n",
    "\n",
    ">원하는 행까지 아래의 패턴을 생성하는 함수를 작성하세요. 만약 인자가 0이나 음의 정수인 경우 \"\" 즉, 빈 문자열로 반환하세요.짝수가 인수로 전달되면 패턴은 통과된 짝수보다 작은 최대 홀수까지 계속되어야 합니다.\n",
    "\n",
    "```\n",
    "예시 \n",
    "pattern(9):\n",
    "\n",
    "1\n",
    "333\n",
    "55555\n",
    "7777777\n",
    "999999999\n",
    "\n",
    "pattern(6)\n",
    "1\n",
    "333\n",
    "55555\n",
    "\n",
    "유의\n",
    "패턴에 공백은 없습니다.\n",
    "```"
   ]
  },
  {
   "cell_type": "code",
   "execution_count": 28,
   "metadata": {},
   "outputs": [
    {
     "name": "stdout",
     "output_type": "stream",
     "text": [
      "1            \n",
      "333            \n",
      "55555            \n",
      "7777777            \n",
      "999999999            \n",
      "\n"
     ]
    }
   ],
   "source": [
    "# 여기에 코드를 작성하세요\n",
    "def pattern(n):\n",
    "    a = \"\"\"\"\"\"\n",
    "    for i in range(n):\n",
    "        #print(i)\n",
    "      \n",
    "        if i%2 ==1 :\n",
    "            a+=f'{i}'*i\n",
    "            a+=\"\"\"            \n",
    "\"\"\"\n",
    "            \n",
    "            a+=f'{i}'*i + '\\n'   # f스트링 먼저 뽑고 + \\n 으로 줄 띄운다\n",
    "            \n",
    "#             a+=f\"\"\"\n",
    "#             {i}\"\"\"*i\n",
    "                \n",
    "        \n",
    "    return a\n",
    "        \n",
    "\n",
    "\n",
    "print(pattern(10))"
   ]
  },
  {
   "cell_type": "code",
   "execution_count": 1,
   "metadata": {},
   "outputs": [
    {
     "name": "stdout",
     "output_type": "stream",
     "text": [
      "\n",
      "        sdf\n",
      "        sdf\n",
      "        sdf\n",
      "    \n"
     ]
    }
   ],
   "source": [
    "a = \"\"\"\n",
    "        sdf\n",
    "        sdf\n",
    "        sdf\n",
    "    \"\"\"\n",
    "print(a)"
   ]
  },
  {
   "cell_type": "markdown",
   "metadata": {},
   "source": [
    "# 문제\n",
    "\n",
    ">달팽이는 낮 시간 동안에 기둥을 올라갑니다. 하지만 밤에는 잠을 자면서 어느 정도의 거리만큼미끄러집니다. (낮 시간 동안 올라간 거리보다는 적게 미끄러집니다) 달팽이가 기둥의 꼭대기에 도달하는 날까지 걸리는 시간을 계산하면 됩니다.\n",
    "\n",
    "> 당신의 함수에 들어가야 하는 3개의 인자는 다음과 같습니다.\n",
    "- 기둥의 높이(미터)\n",
    "- 낮 시간 동안 달팽이가 올라가는 거리(미터)\n",
    "- 달팽이가 야간에 잠을 자는 동안 미끄러지는 거리(미터)\n",
    "\n",
    "```\n",
    "snail(100, 5, 2)\n",
    "33\n",
    "```"
   ]
  },
  {
   "cell_type": "code",
   "execution_count": 1,
   "metadata": {},
   "outputs": [
    {
     "name": "stdout",
     "output_type": "stream",
     "text": [
      "2 1\n",
      "4 2\n",
      "6 3\n",
      "8 4\n",
      "10 5\n",
      "12 6\n",
      "14 7\n",
      "16 8\n",
      "18 9\n",
      "20 10\n",
      "22 11\n",
      "24 12\n",
      "26 13\n",
      "28 14\n",
      "30 15\n",
      "32 16\n",
      "34 17\n",
      "36 18\n",
      "38 19\n",
      "40 20\n",
      "42 21\n",
      "44 22\n",
      "46 23\n",
      "48 24\n",
      "50 25\n",
      "52 26\n",
      "54 27\n",
      "56 28\n",
      "58 29\n",
      "60 30\n",
      "62 31\n",
      "64 32\n",
      "66 33\n",
      "68 34\n",
      "70 35\n",
      "72 36\n",
      "74 37\n",
      "76 38\n",
      "78 39\n",
      "80 40\n",
      "82 41\n",
      "84 42\n",
      "86 43\n",
      "88 44\n",
      "90 45\n",
      "92 46\n",
      "94 47\n",
      "96 48\n",
      "98 49\n",
      "50\n"
     ]
    }
   ],
   "source": [
    "# 여기에 코드를 작성하세요\n",
    "def snail(pillar, d_snail ,d_slide):\n",
    "        sum = 0\n",
    "        count = 1\n",
    "        while sum < 100:\n",
    "            sum = d_snail + sum\n",
    "            if sum > 100:\n",
    "                return count\n",
    "            sum -= d_slide\n",
    "            print(sum , count)\n",
    "            count += 1\n",
    "        \n",
    "\n",
    "print(snail(100, 4, 2))"
   ]
  },
  {
   "cell_type": "code",
   "execution_count": null,
   "metadata": {},
   "outputs": [],
   "source": []
  }
 ],
 "metadata": {
  "kernelspec": {
   "display_name": "Python 3",
   "language": "python",
   "name": "python3"
  },
  "language_info": {
   "codemirror_mode": {
    "name": "ipython",
    "version": 3
   },
   "file_extension": ".py",
   "mimetype": "text/x-python",
   "name": "python",
   "nbconvert_exporter": "python",
   "pygments_lexer": "ipython3",
   "version": "3.7.0"
  },
  "latex_envs": {
   "LaTeX_envs_menu_present": true,
   "autoclose": false,
   "autocomplete": true,
   "bibliofile": "biblio.bib",
   "cite_by": "apalike",
   "current_citInitial": 1,
   "eqLabelWithNumbers": true,
   "eqNumInitial": 1,
   "hotkeys": {
    "equation": "Ctrl-E",
    "itemize": "Ctrl-I"
   },
   "labels_anchors": false,
   "latex_user_defs": false,
   "report_style_numbering": false,
   "user_envs_cfg": false
  },
  "toc": {
   "base_numbering": 1,
   "nav_menu": {},
   "number_sections": true,
   "sideBar": true,
   "skip_h1_title": false,
   "title_cell": "Table of Contents",
   "title_sidebar": "Contents",
   "toc_cell": false,
   "toc_position": {},
   "toc_section_display": true,
   "toc_window_display": false
  }
 },
 "nbformat": 4,
 "nbformat_minor": 2
}
