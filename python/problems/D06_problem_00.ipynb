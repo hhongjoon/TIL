{
 "cells": [
  {
   "cell_type": "markdown",
   "metadata": {},
   "source": [
    "# 소대소대\n",
    "\n",
    "> 단어의 짝수번째 알파벳은 대문자로, 홀수번째 알파벳은 소문자로 바꾼 문자열을 return 하는 함수 `up_and_low`을 작성하세요.\n",
    "\n",
    "예시)\n",
    "```python\n",
    "up_and_low('applepie') #=> aPpLePiE\n",
    "up_and_low('spaceship') #=> sPaCeShIp\n",
    "```"
   ]
  },
  {
   "cell_type": "code",
   "execution_count": 33,
   "metadata": {},
   "outputs": [],
   "source": [
    "# 여기에 코드를 작성하세요.\n",
    "def up_and_low(word):\n",
    "    result = ''\n",
    "    for i in range(len(word)):\n",
    "        if i%2 == 0:\n",
    "            result += word[i].lower()\n",
    "        else:\n",
    "            result += word[i].upper()\n",
    "    \n",
    "    return result\n",
    "\n",
    "def up_and_low2(word):\n",
    "    result = ''\n",
    "    for idx, w in enumerate(word):\n",
    "        if idx%2:                         ## == 0 없어도 됨\n",
    "            result+=w.upper()\n",
    "        else:\n",
    "            result+=w.lower()\n",
    "    return result\n",
    "\n",
    "def up_and_low1(word):    \n",
    "    result = ''\n",
    "    \n",
    "    result = [word[i].lower() if i%2 == 0  else word[i].upper() for i in range(len(word))]\n",
    "        \n",
    "    \n",
    "    return ''.join(result)"
   ]
  },
  {
   "cell_type": "code",
   "execution_count": 34,
   "metadata": {},
   "outputs": [
    {
     "name": "stdout",
     "output_type": "stream",
     "text": [
      "dFpPlEpIe\n",
      "sPaCeShIp\n",
      "dFpPlEpIe\n",
      "sPaCeShIp\n"
     ]
    }
   ],
   "source": [
    "# 해당 코드를 통해 올바른 결과가 나오는지 확인하세요.\n",
    "print(up_and_low2('DFpplepie'))\n",
    "print(up_and_low2('spaceship'))\n",
    "print(up_and_low1('DFpplepie'))\n",
    "print(up_and_low1('spaceship'))"
   ]
  },
  {
   "cell_type": "markdown",
   "metadata": {},
   "source": [
    "# 숫자 패턴\n",
    "\n",
    "> 원하는 행까지 아래의 패턴을 생성하는 함수 `pattern`를 작성하세요. 만약 인자가 0이나 음의 정수인 경우 \"\" 즉, 빈 문자열로 반환하세요. 짝수가 인수로 전달되면 패턴은 통과된 짝수보다 작은 최대 홀수까지 계속되어야 합니다.\n",
    "\n",
    "예시)\n",
    "\n",
    "```python\n",
    "pattern(9)\n",
    "\n",
    "1\n",
    "333\n",
    "55555\n",
    "7777777\n",
    "999999999\n",
    "\n",
    "pattern(6)\n",
    "\n",
    "1\n",
    "333\n",
    "55555\n",
    "```\n",
    "\n",
    "주의)\n",
    "\n",
    "- 패턴에 공백은 없습니다.\n",
    "- 함수 내부에서 `print()`를 사용하는 것이 아니라, 하나의 문자열을 `return`하여서 출력하여야 합니다."
   ]
  },
  {
   "cell_type": "code",
   "execution_count": 53,
   "metadata": {},
   "outputs": [],
   "source": [
    "# 여기에 코드를 작성하세요.\n",
    "def pattern_o(n):\n",
    "    #r = [str(x)*x for x in range(1,n+1) if x%2]\n",
    "    r = [str(x)*x for x in range(1,n+1,2)]\n",
    "    return '\\n'.join(r)\n",
    "\n",
    "def pattern(n):\n",
    "    result = ''\n",
    "    for i in range(1,n+1):\n",
    "        if i % 2 == 1:\n",
    "            if i == n-2:\n",
    "                result += f'{i}'*i\n",
    "                break\n",
    "            result += f'{i}'*i + '\\n'\n",
    "    return result\n",
    "\n",
    "def pattern1(n):\n",
    "    string = ''\n",
    "    a = n\n",
    "    if a%2 == 0:\n",
    "        a-=1\n",
    "    for x in range(1,a+1):\n",
    "        if x%2 != 0:\n",
    "            string += str(x)*x\n",
    "            if x!= a:\n",
    "                sting += '\\n'\n",
    "    \n",
    "def pattern1(n):\n",
    "    result = ''\n",
    "    for i in range(1,n+1):\n",
    "        if i % 2 == 1:\n",
    "            result += f'{i}'*i + '\\n'\n",
    "    return result"
   ]
  },
  {
   "cell_type": "code",
   "execution_count": 54,
   "metadata": {},
   "outputs": [
    {
     "name": "stdout",
     "output_type": "stream",
     "text": [
      "1\n",
      "333\n",
      "55555\n",
      "7777777\n",
      "\n",
      "1\n",
      "333\n",
      "55555\n",
      "\n",
      "1\n",
      "333\n",
      "55555\n",
      "7777777\n",
      "1\n",
      "333\n",
      "55555\n"
     ]
    }
   ],
   "source": [
    "# 해당 코드를 통해 올바른 결과가 나오는지 확인하세요.\n",
    "print(pattern(8))\n",
    "print(pattern(6))\n",
    "print(pattern_o(8))\n",
    "print(pattern_o(6))"
   ]
  },
  {
   "cell_type": "markdown",
   "metadata": {},
   "source": [
    "# 무엇이 중복일까\n",
    "\n",
    "> 중복된 요소만 뽑아서 출력하는 `duplicated` 함수를 작성하시오.\n",
    "\n",
    "예시)\n",
    "\n",
    "```python\n",
    "duplicated(['a', 'b', 'c', 'b', 'd', 'm', 'n', 'n', 'b']) #=> ['b', 'n']\n",
    "```"
   ]
  },
  {
   "cell_type": "code",
   "execution_count": 64,
   "metadata": {},
   "outputs": [
    {
     "ename": "IndentationError",
     "evalue": "expected an indented block (<ipython-input-64-60063b992926>, line 39)",
     "output_type": "error",
     "traceback": [
      "\u001b[1;36m  File \u001b[1;32m\"<ipython-input-64-60063b992926>\"\u001b[1;36m, line \u001b[1;32m39\u001b[0m\n\u001b[1;33m    return duplicates\u001b[0m\n\u001b[1;37m    ^\u001b[0m\n\u001b[1;31mIndentationError\u001b[0m\u001b[1;31m:\u001b[0m expected an indented block\n"
     ]
    }
   ],
   "source": [
    "# 여기에 코드를 작성하세요.\n",
    "def duplicated(some_list):\n",
    "\n",
    "    duplicates = []\n",
    "    for i in some_list:\n",
    "        if some_list.count(i) >1:    #    count로 갯수 파악\n",
    "            if i not in duplicates:\n",
    "                duplicates.append(i)\n",
    "    \n",
    "    return duplicates\n",
    "\n",
    "# def set_sol():\n",
    "#     n=변환하고\n",
    "#     for i 가 있으면 원본에서 제거\n",
    "#      남은 값을 set 시키면 남음\n",
    "\n",
    "\n",
    "\n",
    "def duplicated22(some_list):\n",
    "    return list({c for c in some_list if some_list.count(c) > 1})\n",
    "\n",
    "\n",
    "\n",
    "\n",
    "\n",
    "\n",
    "\n",
    "\n",
    "\n",
    "\n",
    "def duplicated(some_list):\n",
    "\n",
    "    duplicates = []\n",
    "    for i in some_list:\n",
    "        if some_list.count(i) >1:    #    count로 갯수 파악\n",
    "            \n",
    "#         else:\n",
    "    \n",
    "    return duplicates\n",
    "\n",
    "def duplicated1(some_list):\n",
    "\n",
    "    duplicates = []\n",
    "    \n",
    "    duplicates = [i for i in some_list if ((some_list.count(i) >1) and (i not in duplicates))]    #    count로 갯수 파악\n",
    "            \n",
    "                \n",
    "    \n",
    "    return duplicates"
   ]
  },
  {
   "cell_type": "code",
   "execution_count": 65,
   "metadata": {},
   "outputs": [],
   "source": [
    "\n",
    "def duplicated22(some_list):\n",
    "    return list({c for c in some_list if some_list.count(c) > 1})   # set으로 전환"
   ]
  },
  {
   "cell_type": "code",
   "execution_count": 66,
   "metadata": {},
   "outputs": [
    {
     "name": "stdout",
     "output_type": "stream",
     "text": [
      "['b', 'n']\n",
      "['b', 'n']\n"
     ]
    }
   ],
   "source": [
    "# 해당 코드를 통해 올바른 결과가 나오는지 확인하세요.\n",
    "print(duplicated(['a', 'b', 'c', 'b', 'd', 'm', 'n', 'n', 'b']))\n",
    "print(duplicated22(['a', 'b', 'c', 'b', 'd', 'm', 'n', 'n', 'b']))"
   ]
  },
  {
   "cell_type": "code",
   "execution_count": null,
   "metadata": {},
   "outputs": [],
   "source": []
  }
 ],
 "metadata": {
  "kernelspec": {
   "display_name": "Python 3",
   "language": "python",
   "name": "python3"
  },
  "language_info": {
   "codemirror_mode": {
    "name": "ipython",
    "version": 3
   },
   "file_extension": ".py",
   "mimetype": "text/x-python",
   "name": "python",
   "nbconvert_exporter": "python",
   "pygments_lexer": "ipython3",
   "version": "3.6.7"
  },
  "toc": {
   "base_numbering": 1,
   "nav_menu": {},
   "number_sections": true,
   "sideBar": true,
   "skip_h1_title": false,
   "title_cell": "Table of Contents",
   "title_sidebar": "Contents",
   "toc_cell": false,
   "toc_position": {},
   "toc_section_display": true,
   "toc_window_display": false
  }
 },
 "nbformat": 4,
 "nbformat_minor": 2
}
