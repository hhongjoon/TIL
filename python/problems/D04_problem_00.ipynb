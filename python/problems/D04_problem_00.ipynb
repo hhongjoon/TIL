{
 "cells": [
  {
   "cell_type": "markdown",
   "metadata": {},
   "source": [
    "## 최대공약수, 최소공배수 구하기\n",
    "\n",
    "> 두 수를 입력받아 두 수의 최대공약수와 최소공배수를 반환하는 함수, gcdlcm을 완성해 보세요.\n",
    ">\n",
    "> 배열의 맨 앞에 최대공약수, 그다음 최소공배수를 넣어 반환하면 됩니다. \n",
    ">\n",
    "> 예를 들어 두 수 3, 12의 최대공약수는 3, 최소공배수는 12이므로 `gcdlcm(3, 12)`는 `[3, 12]`를 반환해야 합니다. \n",
    "\n",
    "예시)\n",
    "\n",
    "```python\n",
    "gcdlcm(3, 12) #=> [3, 12]\n",
    "gcdlcm(1071, 1029) #=> [21, 52479]\n",
    "```"
   ]
  },
  {
   "cell_type": "code",
   "execution_count": 48,
   "metadata": {},
   "outputs": [],
   "source": [
    "# 여기에 코드를 작성하세요.\n",
    "def gcdlcm(a,b):\n",
    "    count = max(a,b)\n",
    "    while (count>0):\n",
    "        if a%count == 0 and b%count == 0:\n",
    "            k1 = count\n",
    "            break\n",
    "        count -= 1\n",
    "            \n",
    "    k2 = int(a*b/k1)\n",
    "    \n",
    "    return [k1, k2]"
   ]
  },
  {
   "cell_type": "code",
   "execution_count": 49,
   "metadata": {},
   "outputs": [],
   "source": [
    "#set 활용\n",
    "def gcdlcm2(a,b):\n",
    "    a,b = max(a,b), min(a,b)\n",
    "    while b>0:\n",
    "        a,b = b, a%b\n",
    "    return  a, int(a*b/b)"
   ]
  },
  {
   "cell_type": "code",
   "execution_count": 50,
   "metadata": {},
   "outputs": [
    {
     "name": "stdout",
     "output_type": "stream",
     "text": [
      "[3, 18]\n",
      "[21, 52479]\n"
     ]
    }
   ],
   "source": [
    "print(gcdlcm(3, 18))\n",
    "\n",
    "print(gcdlcm(1071, 1029))"
   ]
  },
  {
   "cell_type": "markdown",
   "metadata": {},
   "source": [
    "## URL 편하게 만들기\n",
    "\n",
    "> url 패턴을 만들어 문자열을 반환하는 `my_url` 함수를 만들어봅시다.\n",
    ">\n",
    "> 영진위에서 제공하는 일별 박스오피스 API 서비스는 다음과 같은 방식으로 요청을 받습니다.\n",
    "\n",
    "```\n",
    "기본 요청 URL : http://www.kobis.or.kr/kobisopenapi/webservice/rest/boxoffice/searchDailyBoxOfficeList.json?\n",
    "```\n",
    "\n",
    "* key : 발급받은 키값(abc)\n",
    "* targetDt : yyyymmdd\n",
    "* itemPerPage : 1 ~ 10 **기본 10**\n",
    "---\n",
    "\n",
    "예시)\n",
    "```python\n",
    "api = {\n",
    "    'key': 'abc',\n",
    "    'targetDt': 'yyyymmdd'\n",
    "}\n",
    "my_url(**api)\n",
    "```\n",
    "\n",
    "예시 출력)\n",
    "```python\n",
    "'http://www.kobis.or.kr/kobisopenapi/webservice/rest/boxoffice/searchDailyBoxOfficeList.json?key=abc&targetDt=yyyymmdd&'\n",
    "```"
   ]
  },
  {
   "cell_type": "code",
   "execution_count": 92,
   "metadata": {},
   "outputs": [
    {
     "name": "stdout",
     "output_type": "stream",
     "text": [
      "http://www.kobis.or.kr/kobisopenapi/webservice/rest/boxoffice/searchDailyBoxOfficeList.json?itemPerPage=10&key=430156241533f1d058c603178cc3ca0e&targetDt=20190101&\n"
     ]
    }
   ],
   "source": [
    "# 여기에 코드를 작성해주세요.\n",
    "api = {\n",
    "    'key': '430156241533f1d058c603178cc3ca0e',\n",
    "    'targetDt': '20190101'\n",
    "}\n",
    "\n",
    "def my_url(itemPerPage = 10,**args):\n",
    "    args.values()\n",
    "    url = f\"http://www.kobis.or.kr/kobisopenapi/webservice/rest/boxoffice/searchDailyBoxOfficeList.json?itemPerPage={itemPerPage}&\"\n",
    "    for key, value in args.items():\n",
    "            url += f'{key}={value}&'\n",
    "      \n",
    "    return url\n",
    "\n",
    "\n",
    "print(my_url(**api))\n",
    "\n",
    "\n"
   ]
  },
  {
   "cell_type": "code",
   "execution_count": 88,
   "metadata": {},
   "outputs": [
    {
     "name": "stdout",
     "output_type": "stream",
     "text": [
      "('key', 'abc')\n",
      "('targetDt', 'yyyymmdd')\n"
     ]
    }
   ],
   "source": [
    "api = {\n",
    "    'key': 'abc',\n",
    "    'targetDt': 'yyyymmdd'\n",
    "}\n",
    "\n",
    "for i in api.items():\n",
    "    print(i[])"
   ]
  },
  {
   "cell_type": "code",
   "execution_count": null,
   "metadata": {},
   "outputs": [],
   "source": []
  },
  {
   "cell_type": "markdown",
   "metadata": {},
   "source": [
    "## URL 검증하기\n",
    "\n",
    "> 이제 우리는 만들어진 요청 보내기전에 URL을 검증해야합니다. \n",
    ">\n",
    "> 앞선 설명을 참고하여 검증 로직을 구현하고 문자열을 반환하세요.\n",
    "\n",
    "```\n",
    "> 아래의 두가지 상황만 만들도록 하겠습니다. <\n",
    "\n",
    "1. key, targetDt가 없으면, '필수 요청변수가 누락되었습니다.'\n",
    "\n",
    "2. itemPerPage의 범위가 1~10을 넘어가면, '1~10까지의 값을 넣어주세요.'\n",
    "```"
   ]
  },
  {
   "cell_type": "code",
   "execution_count": 19,
   "metadata": {},
   "outputs": [
    {
     "data": {
      "text/plain": [
       "'http://www.kobis.or.kr/kobisopenapi/webservice/rest/boxoffice/searchDailyBoxOfficeList.json?itemPerPage=9&key=430156241533f1d058c603178cc3ca0e&targetDt=20190101&'"
      ]
     },
     "execution_count": 19,
     "metadata": {},
     "output_type": "execute_result"
    }
   ],
   "source": [
    "# 여기에 코드를 작성해주세요.\n",
    "api = {\n",
    "    'key': '430156241533f1d058c603178cc3ca0e',\n",
    "    'targetDt': '20190101'\n",
    "}\n",
    "\n",
    "def my_url(itemPerPage = 10,**args):\n",
    "    if itemPerPage >10:\n",
    "        \n",
    "        return '1~10까지의 값을 넣어주세요'\n",
    "    url = f\"http://www.kobis.or.kr/kobisopenapi/webservice/rest/boxoffice/searchDailyBoxOfficeList.json?itemPerPage={itemPerPage}&\"\n",
    "    for key, value in args.items():\n",
    "        if key not in args.keys():\n",
    "           \n",
    "            return '필수 요청변수가 누락되었습니다.'\n",
    "            \n",
    "        url += f'{key}={value}&'\n",
    "      \n",
    "    return url\n",
    "\n",
    "my_url(**api)\n",
    "my_url(9, **api)"
   ]
  },
  {
   "cell_type": "markdown",
   "metadata": {},
   "source": [
    "### 양축평가"
   ]
  },
  {
   "cell_type": "code",
   "execution_count": null,
   "metadata": {},
   "outputs": [],
   "source": [
    "my_url(itemPerPage=10, **args):\n",
    "    if('key' not in args or 'targetDt' not in args and int(itemPerPage) not in range(1,11):\n",
    "       return ''\n",
    "    elif 'key' not in args"
   ]
  },
  {
   "cell_type": "code",
   "execution_count": 22,
   "metadata": {},
   "outputs": [],
   "source": [
    "def return_test():\n",
    "    return '대전2반'"
   ]
  },
  {
   "cell_type": "code",
   "execution_count": 23,
   "metadata": {},
   "outputs": [],
   "source": [
    "def print_test():\n",
    "    print('대전2반')"
   ]
  },
  {
   "cell_type": "code",
   "execution_count": 24,
   "metadata": {},
   "outputs": [
    {
     "name": "stdout",
     "output_type": "stream",
     "text": [
      "대전2반\n"
     ]
    }
   ],
   "source": [
    "print(return_test())"
   ]
  },
  {
   "cell_type": "code",
   "execution_count": 25,
   "metadata": {},
   "outputs": [
    {
     "name": "stdout",
     "output_type": "stream",
     "text": [
      "대전2반\n",
      "None\n"
     ]
    }
   ],
   "source": [
    "print(print_test())"
   ]
  },
  {
   "cell_type": "code",
   "execution_count": null,
   "metadata": {},
   "outputs": [],
   "source": [
    "if 'key' not in args or 'targetDt' not in args:"
   ]
  },
  {
   "cell_type": "code",
   "execution_count": null,
   "metadata": {},
   "outputs": [],
   "source": [
    "vowel = 'aeiou'"
   ]
  },
  {
   "cell_type": "code",
   "execution_count": 26,
   "metadata": {},
   "outputs": [
    {
     "data": {
      "text/plain": [
       "'b'"
      ]
     },
     "execution_count": 26,
     "metadata": {},
     "output_type": "execute_result"
    }
   ],
   "source": [
    "'a' and 'b'"
   ]
  },
  {
   "cell_type": "code",
   "execution_count": 27,
   "metadata": {},
   "outputs": [
    {
     "data": {
      "text/plain": [
       "'a'"
      ]
     },
     "execution_count": 27,
     "metadata": {},
     "output_type": "execute_result"
    }
   ],
   "source": [
    "'b' and 'a'   # 합치지말 것"
   ]
  },
  {
   "cell_type": "code",
   "execution_count": null,
   "metadata": {},
   "outputs": [],
   "source": []
  },
  {
   "cell_type": "code",
   "execution_count": 25,
   "metadata": {},
   "outputs": [
    {
     "name": "stdout",
     "output_type": "stream",
     "text": [
      "3\n",
      "1\n",
      "3 5\n",
      "4 2 9\n",
      "15\n"
     ]
    }
   ],
   "source": [
    "#층계산 함수\n",
    "def cal_level(loc):\n",
    "    level = 1\n",
    "    while loc-level>=0:\n",
    "        loc = loc - level\n",
    "        level+=1\n",
    "    return level\n",
    "\n",
    "#위치의 최대값 구하기\n",
    "def cal_max(loc, lev):\n",
    "    if loc == 0:\n",
    "        dp[0] = tri[0]\n",
    "        return 0\n",
    "        \n",
    "    if loc - (lev-1)>=0 and loc in x_list1 :\n",
    "        dp[loc] = dp[loc-(lev-1)] + tri[loc]\n",
    "        \n",
    "        \n",
    "    elif loc - lev >= 0 and loc in x_list2 :\n",
    "        dp[loc] = dp[loc-lev] + tri[loc]\n",
    "        #print(loc , dp[loc])\n",
    "    else:\n",
    "        dp_r = dp[loc-(lev-1)] + tri[loc]\n",
    "        dp_l = dp[loc-lev] + tri[loc]\n",
    "        if dp_r >= dp_l:\n",
    "            dp[loc] = dp_r\n",
    "            \n",
    "        else:\n",
    "            dp[loc] = dp_l\n",
    "    #print(loc , dp[loc])\n",
    "    #print(dp)\n",
    "\n",
    "def prov1(loc):\n",
    "    level1 = cal_level(loc)\n",
    "    count = 0\n",
    "    x_list=[]\n",
    "    for i in range(level1):\n",
    "        count += i\n",
    "        x_list.append(count)\n",
    "    return x_list\n",
    "        \n",
    "def prov2(loc):\n",
    "    level1 = cal_level(loc)\n",
    "    count = 0\n",
    "    x_list=[]\n",
    "    for i in range(2, level1+2):\n",
    "        \n",
    "        x_list.append(count)\n",
    "        count += i\n",
    "    return x_list\n",
    "        \n",
    "#@@@@@@@@@@@@@@@@@@@@@@@@@@@@@@@@@@@@@@@@@@@@@@@@@@@@@\n",
    "    \n",
    "#입력부\n",
    "count = int(input())\n",
    "tri = []\n",
    "for i in range(count):\n",
    "    aa = list(map(int, input().split()))\n",
    "    tri = tri+aa\n",
    "\n",
    "\n",
    "\n",
    "\n",
    "#dp 초기화\n",
    "dp = []\n",
    "for i in range(len(tri)):\n",
    "    dp.append(0)\n",
    "\n",
    "x_list1 = prov1(len(tri)-1)\n",
    "x_list2 = prov2(len(tri)-1)\n",
    "\n",
    "#print(tri)\n",
    "# 구하기\n",
    "\n",
    "for i in range(len(tri)):\n",
    "    i_level = cal_level(i)\n",
    "    cal_max(i,i_level)\n",
    "    \n",
    "\n",
    "print(max(dp))\n",
    "\n",
    "#print(dp)\n",
    "#print(i_max)"
   ]
  },
  {
   "cell_type": "code",
   "execution_count": 23,
   "metadata": {},
   "outputs": [
    {
     "name": "stdout",
     "output_type": "stream",
     "text": [
      "[0, 2, 5]\n"
     ]
    }
   ],
   "source": [
    "def prov1(loc):\n",
    "    level1 = cal_level(loc)\n",
    "    count = 0\n",
    "    x_list=[]\n",
    "    for i in range(level1):\n",
    "        count += i\n",
    "        x_list.append(count)\n",
    "    return x_list\n",
    "\n",
    "def prov2(loc):\n",
    "    level1 = cal_level(loc)\n",
    "    count = 0\n",
    "    x_list=[]\n",
    "    for i in range(2, level1+2):\n",
    "        \n",
    "        x_list.append(count)\n",
    "        count += i\n",
    "    return x_list\n",
    "\n",
    "print(prov2(5))"
   ]
  },
  {
   "cell_type": "code",
   "execution_count": null,
   "metadata": {},
   "outputs": [],
   "source": []
  }
 ],
 "metadata": {
  "kernelspec": {
   "display_name": "Python 3",
   "language": "python",
   "name": "python3"
  },
  "language_info": {
   "codemirror_mode": {
    "name": "ipython",
    "version": 3
   },
   "file_extension": ".py",
   "mimetype": "text/x-python",
   "name": "python",
   "nbconvert_exporter": "python",
   "pygments_lexer": "ipython3",
   "version": "3.6.7"
  },
  "toc": {
   "base_numbering": 1,
   "nav_menu": {},
   "number_sections": true,
   "sideBar": true,
   "skip_h1_title": false,
   "title_cell": "Table of Contents",
   "title_sidebar": "Contents",
   "toc_cell": false,
   "toc_position": {},
   "toc_section_display": true,
   "toc_window_display": false
  }
 },
 "nbformat": 4,
 "nbformat_minor": 2
}
