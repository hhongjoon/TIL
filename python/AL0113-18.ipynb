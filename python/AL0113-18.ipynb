{
 "cells": [
  {
   "cell_type": "code",
   "execution_count": null,
   "metadata": {},
   "outputs": [],
   "source": [
    "###문제풀이####\n",
    "\n"
   ]
  },
  {
   "cell_type": "code",
   "execution_count": null,
   "metadata": {},
   "outputs": [],
   "source": []
  },
  {
   "cell_type": "code",
   "execution_count": 3,
   "metadata": {},
   "outputs": [
    {
     "name": "stdout",
     "output_type": "stream",
     "text": [
      "9489\n",
      "9465\n"
     ]
    }
   ],
   "source": [
    "#2231 분해합\n",
    "n = int(input())\n",
    "for i in range(n):\n",
    "    a = list(map(int ,list(str(i))))\n",
    "    #print(a)\n",
    "    count = len(a)\n",
    "    idx = -1\n",
    "    summ = 0\n",
    "    \n",
    "    while count >=1:\n",
    "        summ += a[idx]*pow(10,(-idx-1))\n",
    "        count -= 1\n",
    "        idx -= 1\n",
    "    if n == summ+sum(a):\n",
    "        print(summ)\n",
    "        break\n",
    "    if i == n-1:\n",
    "        print(0)"
   ]
  },
  {
   "cell_type": "code",
   "execution_count": null,
   "metadata": {},
   "outputs": [],
   "source": [
    "a= [0,2]\n",
    "print(sum(a))"
   ]
  },
  {
   "cell_type": "code",
   "execution_count": null,
   "metadata": {},
   "outputs": [],
   "source": [
    "print(len(list(input().split())))"
   ]
  },
  {
   "cell_type": "code",
   "execution_count": null,
   "metadata": {},
   "outputs": [],
   "source": [
    "for i in range(1,int(input())+1):\n",
    "    print(i)\n"
   ]
  },
  {
   "cell_type": "code",
   "execution_count": null,
   "metadata": {},
   "outputs": [],
   "source": [
    "count = input()\n",
    "\n",
    "sum(map(int,list(input())))"
   ]
  },
  {
   "cell_type": "code",
   "execution_count": null,
   "metadata": {},
   "outputs": [],
   "source": [
    "def building_window(aparts):\n",
    "    count = 0\n",
    "    for i in range(len(aparts)):\n",
    "        #print(i)\n",
    "        a = b = c= d = 0\n",
    "        if i-2 >= 0 :\n",
    "            a = aparts[i-2]\n",
    "        if i-1 >= 0 :\n",
    "            b = aparts[i-1]\n",
    "        if i+1 <= len(aparts)-1:\n",
    "            c = aparts[i+1]\n",
    "        if i+2 <= len(aparts)-1:\n",
    "            d = aparts[i+2]\n",
    "        \n",
    "        if aparts[i] > a and aparts[i] > b and aparts[i] > c and aparts[i]>d:\n",
    "            maax = max(a, b, c, d)\n",
    "            count = count + (aparts[i] - maax)\n",
    "    \n",
    "    return count\n",
    "\n",
    "def main():\n",
    "    \n",
    "    for i in range(10):\n",
    "        \n",
    "        cout = int(input())\n",
    "        case = list(map(int, input().split()))\n",
    "        #print(case)\n",
    "        print(building_window(case))\n",
    "\n",
    "\n",
    "\n",
    "if __name__ == \"__main__\":\n",
    "    main()"
   ]
  },
  {
   "cell_type": "code",
   "execution_count": null,
   "metadata": {},
   "outputs": [],
   "source": [
    "aa = [1,2,3,4,5]\n",
    "print(aa[-6])"
   ]
  },
  {
   "cell_type": "code",
   "execution_count": null,
   "metadata": {},
   "outputs": [],
   "source": [
    "a=[0]\n",
    "print(a*5)\n",
    "print(a)"
   ]
  },
  {
   "cell_type": "code",
   "execution_count": null,
   "metadata": {},
   "outputs": [],
   "source": []
  }
 ],
 "metadata": {
  "kernelspec": {
   "display_name": "Python 3",
   "language": "python",
   "name": "python3"
  },
  "language_info": {
   "codemirror_mode": {
    "name": "ipython",
    "version": 3
   },
   "file_extension": ".py",
   "mimetype": "text/x-python",
   "name": "python",
   "nbconvert_exporter": "python",
   "pygments_lexer": "ipython3",
   "version": "3.6.7"
  }
 },
 "nbformat": 4,
 "nbformat_minor": 2
}
