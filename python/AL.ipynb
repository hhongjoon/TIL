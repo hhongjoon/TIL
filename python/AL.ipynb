{
 "cells": [
  {
   "cell_type": "code",
   "execution_count": null,
   "metadata": {},
   "outputs": [],
   "source": [
    "#2581\n",
    "def __isprime(n):\n",
    "    if n ==1:\n",
    "        return False\n",
    "    if n ==2:\n",
    "        return True\n",
    "    \n",
    "    if n%2 == 0:\n",
    "        return False\n",
    "    for i in range(3,n):\n",
    "        if n%i ==0:\n",
    "            return False\n",
    "    \n",
    "    return True\n",
    "\n",
    "m = int(input())   # m<n\n",
    "n = int(input())\n",
    "\n",
    "a = []\n",
    "while m<=n:\n",
    "    if __isprime(m) == True:\n",
    "        a.append(m)\n",
    "    \n",
    "    m=m+1\n",
    "\n",
    "if len(a)==0:\n",
    "    print(-1)\n",
    "else:\n",
    "    print(sum(a))\n",
    "    print(a[0])\n",
    "    \n",
    "print(a)"
   ]
  },
  {
   "cell_type": "code",
   "execution_count": null,
   "metadata": {},
   "outputs": [],
   "source": [
    "#층계산 함수\n",
    "def cal_level(loc):\n",
    "    level = 1\n",
    "    while loc-level>=0:\n",
    "        loc = loc - level\n",
    "        level+=1\n",
    "    return level\n",
    "\n",
    "#위치의 최대값 구하기\n",
    "def cal_max(loc, lev):\n",
    "    if loc == 0:\n",
    "        dp[0] = tri[0]\n",
    "        return 0\n",
    "        \n",
    "    if loc - (lev-1)>=0 and loc in x_list1 :\n",
    "        dp[loc] = dp[loc-(lev-1)] + tri[loc]\n",
    "        \n",
    "    elif loc - lev >= 0 and loc in x_list2 :\n",
    "        dp[loc] = dp[loc-lev] + tri[loc]\n",
    "    \n",
    "    else:\n",
    "        dp_r = dp[loc-(lev-1)] + tri[loc]\n",
    "        dp_l = dp[loc-lev] + tri[loc]\n",
    "        if dp_r >= dp_l:\n",
    "            dp[loc] = dp_r\n",
    "        else:\n",
    "            dp[loc] = dp_l\n",
    "    print(loc , dp[loc])\n",
    "    print(dp)\n",
    "\n",
    "def prov1(loc):\n",
    "    level1 = cal_level(loc)\n",
    "    count = 0\n",
    "    x_list=[]\n",
    "    for i in range(level1):\n",
    "        count += i\n",
    "        x_list.append(count)\n",
    "    return x_list\n",
    "        \n",
    "def prov2(loc):\n",
    "    level1 = cal_level(loc)\n",
    "    count = 0\n",
    "    x_list=[]\n",
    "    for i in range(2, level1+2):\n",
    "        \n",
    "        x_list.append(i)\n",
    "        count += 1\n",
    "    return x_list\n",
    "        \n",
    "#@@@@@@@@@@@@@@@@@@@@@@@@@@@@@@@@@@@@@@@@@@@@@@@@@@@@@\n",
    "    \n",
    "#입력부\n",
    "count = int(input())\n",
    "tri = []\n",
    "for i in range(count):\n",
    "    aa = list(map(int, input().split()))\n",
    "    tri = tri+aa\n",
    "\n",
    "\n",
    "\n",
    "\n",
    "#dp 초기화\n",
    "dp = []\n",
    "for i in range(len(tri)):\n",
    "    dp.append(0)\n",
    "\n",
    "x_list1 = prov1(len(tri)-1)\n",
    "x_list2 = prov2(len(tri)-1)\n",
    "\n",
    "print(tri)\n",
    "# 구하기\n",
    "\n",
    "for i in range(len(tri)):\n",
    "    i_level = cal_level(i)\n",
    "    cal_max(i,i_level)\n",
    "    \n",
    "\n",
    "print(max(dp))\n",
    "\n",
    "#print(dp)\n",
    "#print(i_max)\n",
    "\n"
   ]
  },
  {
   "cell_type": "code",
   "execution_count": null,
   "metadata": {},
   "outputs": [],
   "source": [
    "#입력부\n",
    "loop = int(input())\n",
    "\n",
    "for i in range(loop):\n",
    "    ea = int(input())\n",
    "    file = []\n",
    "    file = list(map(int, input().split()))\n",
    "\n",
    "dp[0] = file # 입력값 dp 저장\n",
    "\n",
    "def file_cal(n):\n",
    "    n.sort()   # 오름차순 정리\n",
    "    count = 0\n",
    "    while count < len(n):\n",
    "        a = 0\n",
    "        b = 1\n",
    "        \n",
    "        for i in range(len(dp[count]):\n",
    "            if dp[count][i+1] == None\n",
    "            dp[count+1].append(dp[count][i]+dp[count][i+1])\n",
    "            \n",
    "        \n",
    "                       \n",
    "        \n",
    "        count += 1\n",
    "    \n",
    "        \n",
    "    \n",
    "    "
   ]
  },
  {
   "cell_type": "code",
   "execution_count": null,
   "metadata": {},
   "outputs": [],
   "source": [
    "a = [3,5,2,4]\n",
    "print(a[4]==None)"
   ]
  },
  {
   "cell_type": "code",
   "execution_count": 2,
   "metadata": {},
   "outputs": [
    {
     "name": "stdout",
     "output_type": "stream",
     "text": [
      "7\n",
      "pop\n",
      "-1\n",
      "top\n",
      "-1\n",
      "push 123\n",
      "top\n",
      "123\n",
      "pop\n",
      "123\n",
      "top\n",
      "-1\n",
      "pop\n",
      "-1\n"
     ]
    }
   ],
   "source": [
    "#10828\n",
    "def comman(aa, num = 0):\n",
    "    if aa == 'push':\n",
    "        li.append(num)\n",
    "        #print(f\"push {num}\")\n",
    "    if aa == 'pop':\n",
    "        if len(li)==0:\n",
    "            print(-1)\n",
    "        else:\n",
    "            print(li.pop())\n",
    "    if aa == 'size':\n",
    "        print(len(li))\n",
    "    if aa == 'empty':\n",
    "        if len(li) == 0:\n",
    "            print('1')\n",
    "        else:\n",
    "            print('0')\n",
    "    if aa == 'top':\n",
    "        if len(li) ==0:\n",
    "            print(-1)\n",
    "        else:\n",
    "            print(li[-1])\n",
    "\n",
    "##입력부\n",
    "\n",
    "count = int(input())\n",
    "\n",
    "li = []\n",
    "for i in range(count):\n",
    "    com = input()\n",
    "    list_com = com.split(' ')\n",
    "    if len(list_com) == 1:\n",
    "        comman(list_com[0])        \n",
    "    else:\n",
    "        comman(list_com[0],int(list_com[1]))\n",
    "\n",
    "    \n",
    "\n",
    "\n"
   ]
  },
  {
   "cell_type": "code",
   "execution_count": 3,
   "metadata": {},
   "outputs": [
    {
     "ename": "AttributeError",
     "evalue": "'dict' object has no attribute 'reverse'",
     "output_type": "error",
     "traceback": [
      "\u001b[1;31m---------------------------------------------------------------------------\u001b[0m",
      "\u001b[1;31mAttributeError\u001b[0m                            Traceback (most recent call last)",
      "\u001b[1;32m<ipython-input-3-459412bb1b01>\u001b[0m in \u001b[0;36m<module>\u001b[1;34m\u001b[0m\n\u001b[0;32m      1\u001b[0m \u001b[0maa\u001b[0m \u001b[1;33m=\u001b[0m \u001b[1;33m{\u001b[0m\u001b[1;34m\"Java\"\u001b[0m\u001b[1;33m:\u001b[0m \u001b[1;36m10\u001b[0m\u001b[1;33m,\u001b[0m \u001b[1;34m\"Ruby\"\u001b[0m\u001b[1;33m:\u001b[0m \u001b[1;36m80\u001b[0m\u001b[1;33m,\u001b[0m \u001b[1;34m\"Python\"\u001b[0m\u001b[1;33m:\u001b[0m \u001b[1;36m65\u001b[0m\u001b[1;33m}\u001b[0m\u001b[1;33m\u001b[0m\u001b[1;33m\u001b[0m\u001b[0m\n\u001b[0;32m      2\u001b[0m \u001b[1;33m\u001b[0m\u001b[0m\n\u001b[1;32m----> 3\u001b[1;33m \u001b[0maa\u001b[0m\u001b[1;33m.\u001b[0m\u001b[0mreverse\u001b[0m\u001b[1;33m(\u001b[0m\u001b[1;33m)\u001b[0m\u001b[1;33m\u001b[0m\u001b[1;33m\u001b[0m\u001b[0m\n\u001b[0m",
      "\u001b[1;31mAttributeError\u001b[0m: 'dict' object has no attribute 'reverse'"
     ]
    }
   ],
   "source": [
    "aa = {\"Java\": 10, \"Ruby\": 80, \"Python\": 65}\n",
    "\n"
   ]
  },
  {
   "cell_type": "code",
   "execution_count": 34,
   "metadata": {},
   "outputs": [
    {
     "name": "stdout",
     "output_type": "stream",
     "text": [
      "((()())(())())\n",
      "0 0 []\n",
      "0 0 ['(']\n",
      "0 0 ['(', '(']\n",
      "0 0 ['(', '(', '(']\n",
      "1 0 ['(', '(']\n",
      "1 0 ['(', '(', '(']\n",
      "2 0 ['(', '(']\n",
      "2 3 ['(']\n",
      "2 3 ['(', '(']\n",
      "2 3 ['(', '(', '(']\n",
      "3 3 ['(', '(']\n",
      "3 7 ['(']\n",
      "3 7 ['(', '(']\n",
      "4 7 ['(']\n",
      "12\n"
     ]
    }
   ],
   "source": [
    "#10799\n",
    "aa = input()\n",
    "\n",
    "size = []\n",
    "raser = 0\n",
    "\n",
    "piece = 0\n",
    "for i in range(len(aa)):\n",
    "    print(raser,piece, size)\n",
    "    if aa[i] == '(':\n",
    "        size.append('(')\n",
    "    else:\n",
    "        if aa[i-1] == ')':   #연속일 떄\n",
    "            \n",
    "            \n",
    "            piece += (raser+1)\n",
    "            size.pop()\n",
    "            if len(size) == 0:\n",
    "                raser = 0\n",
    "            #print(raser)\n",
    "               \n",
    "        else:                  #  연속 아닐 떄\n",
    "            if len(size) == 1:\n",
    "                raser = 0\n",
    "            else:\n",
    "                raser +=1    # 연속 아니면 레이저, 레이저 추가, ( 제거\n",
    "                size.pop()\n",
    "            \n",
    "            \n",
    "            \n",
    "            \n",
    "            \n",
    "print(piece)\n",
    "            \n",
    "\n",
    "\n"
   ]
  },
  {
   "cell_type": "code",
   "execution_count": 10,
   "metadata": {},
   "outputs": [
    {
     "name": "stdout",
     "output_type": "stream",
     "text": [
      "1\n"
     ]
    }
   ],
   "source": [
    "d =[2,2,4,1]\n",
    "print(d[-1])"
   ]
  },
  {
   "cell_type": "code",
   "execution_count": 7,
   "metadata": {},
   "outputs": [
    {
     "data": {
      "text/plain": [
       "115"
      ]
     },
     "execution_count": 7,
     "metadata": {},
     "output_type": "execute_result"
    }
   ],
   "source": [
    "def my_mul(*args):\n",
    "    result = 1\n",
    "    for i in args:\n",
    "        result *= i\n",
    "    return result\n",
    "my_mul(5,23)\n"
   ]
  },
  {
   "cell_type": "code",
   "execution_count": null,
   "metadata": {},
   "outputs": [],
   "source": []
  }
 ],
 "metadata": {
  "kernelspec": {
   "display_name": "Python 3",
   "language": "python",
   "name": "python3"
  },
  "language_info": {
   "codemirror_mode": {
    "name": "ipython",
    "version": 3
   },
   "file_extension": ".py",
   "mimetype": "text/x-python",
   "name": "python",
   "nbconvert_exporter": "python",
   "pygments_lexer": "ipython3",
   "version": "3.7.0"
  }
 },
 "nbformat": 4,
 "nbformat_minor": 2
}
