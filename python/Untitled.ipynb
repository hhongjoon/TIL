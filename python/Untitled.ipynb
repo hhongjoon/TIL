{
 "cells": [
  {
   "cell_type": "code",
   "execution_count": null,
   "metadata": {},
   "outputs": [],
   "source": [
    "#2581\n",
    "def __isprime(n):\n",
    "    if n ==1:\n",
    "        return False\n",
    "    if n ==2:\n",
    "        return True\n",
    "    \n",
    "    if n%2 == 0:\n",
    "        return False\n",
    "    for i in range(3,n):\n",
    "        if n%i ==0:\n",
    "            return False\n",
    "    \n",
    "    return True\n",
    "\n",
    "m = int(input())   # m<n\n",
    "n = int(input())\n",
    "\n",
    "a = []\n",
    "while m<=n:\n",
    "    if __isprime(m) == True:\n",
    "        a.append(m)\n",
    "    \n",
    "    m=m+1\n",
    "\n",
    "if len(a)==0:\n",
    "    print(-1)\n",
    "else:\n",
    "    print(sum(a))\n",
    "    print(a[0])\n",
    "    \n",
    "print(a)"
   ]
  },
  {
   "cell_type": "code",
   "execution_count": null,
   "metadata": {},
   "outputs": [],
   "source": [
    "#"
   ]
  }
 ],
 "metadata": {
  "kernelspec": {
   "display_name": "Python 3",
   "language": "python",
   "name": "python3"
  },
  "language_info": {
   "codemirror_mode": {
    "name": "ipython",
    "version": 3
   },
   "file_extension": ".py",
   "mimetype": "text/x-python",
   "name": "python",
   "nbconvert_exporter": "python",
   "pygments_lexer": "ipython3",
   "version": "3.6.7"
  }
 },
 "nbformat": 4,
 "nbformat_minor": 2
}
